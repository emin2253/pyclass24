{
 "cells": [
  {
   "cell_type": "markdown",
   "id": "2b109977-15e0-49c4-b35e-b31016e5307a",
   "metadata": {
    "tags": []
   },
   "source": [
    "## pac man task"
   ]
  },
  {
   "cell_type": "markdown",
   "id": "c29c47fe-45d8-460b-8632-12528572c1f4",
   "metadata": {},
   "source": [
    "Inside this numpy array is a stack of images.\n",
    "\n",
    "Goals:\n",
    "1. visualize images using matplotlib\n",
    "2. use numpy to pick the images that would tell a story\n",
    "3. make a .gif for the story"
   ]
  },
  {
   "cell_type": "code",
   "execution_count": 13,
   "id": "c2eaa36c-6276-43e0-b012-a669299a7700",
   "metadata": {},
   "outputs": [],
   "source": [
    "## load python libraries\n",
    "import numpy as np\n",
    "import matplotlib.pyplot as plt"
   ]
  },
  {
   "cell_type": "code",
   "execution_count": 15,
   "id": "c8180bf2-0d4b-4fc5-ac5f-dfda8e813e6f",
   "metadata": {},
   "outputs": [],
   "source": [
    "## load the pacman_example.npy \n",
    "pacman = np.load('./pacman/pacman_example.npy') # fill in your path to the pacman_example.npy"
   ]
  },
  {
   "cell_type": "code",
   "execution_count": 16,
   "id": "c914c7d7-763c-49a5-aeee-d7cf25d7f1e8",
   "metadata": {},
   "outputs": [
    {
     "data": {
      "text/plain": [
       "<matplotlib.image.AxesImage at 0x7fe62645f700>"
      ]
     },
     "execution_count": 16,
     "metadata": {},
     "output_type": "execute_result"
    },
    {
     "data": {
      "image/png": "[encoded data removed]",
      "text/plain": [
       "<Figure size 432x288 with 1 Axes>"
      ]
     },
     "metadata": {
      "needs_background": "light"
     },
     "output_type": "display_data"
    }
   ],
   "source": [
    "## use plt.imshow() to show see the \n",
    "plt.imshow(pacman)"
   ]
  },
  {
   "cell_type": "markdown",
   "id": "0bde1c8e-e1fe-480f-af15-4b9277df2482",
   "metadata": {},
   "source": [
    "for a better visualization:"
   ]
  },
  {
   "cell_type": "code",
   "execution_count": 17,
   "id": "4753db92-c3cc-4d6f-b6b7-9dcf669f19d5",
   "metadata": {},
   "outputs": [
    {
     "data": {
      "text/plain": [
       "(-0.5, 199.5, 199.5, -0.5)"
      ]
     },
     "execution_count": 17,
     "metadata": {},
     "output_type": "execute_result"
    },
    {
     "data": {
      "image/png": "[encoded data removed]",
      "text/plain": [
       "<Figure size 432x288 with 1 Axes>"
      ]
     },
     "metadata": {
      "needs_background": "light"
     },
     "output_type": "display_data"
    }
   ],
   "source": [
    "plt.imshow(pacman)\n",
    "plt.axis('off')"
   ]
  },
  {
   "cell_type": "markdown",
   "id": "bb65ead0-012a-4567-968c-af95f02b5d37",
   "metadata": {},
   "source": [
    "## now the official task starts:"
   ]
  },
  {
   "cell_type": "code",
   "execution_count": 158,
   "id": "decaaf00-4717-4871-a5aa-892383e5c7e7",
   "metadata": {},
   "outputs": [],
   "source": [
    "## load the all_pacmen.npy array"
   ]
  },
  {
   "cell_type": "code",
   "execution_count": 19,
   "id": "348c53ff-ab65-4756-862c-6c85f3216e26",
   "metadata": {},
   "outputs": [],
   "source": [
    "## explore the .npy array"
   ]
  },
  {
   "cell_type": "code",
   "execution_count": 20,
   "id": "9f3d56e9-a099-4a47-9214-cc44bddadfdb",
   "metadata": {},
   "outputs": [],
   "source": [
    "## find the right pack man images"
   ]
  },
  {
   "cell_type": "code",
   "execution_count": 21,
   "id": "325bd4b3-3ce7-4846-9315-ba08676e589d",
   "metadata": {},
   "outputs": [],
   "source": [
    "## visualize them using imshow (keyword: subplots from day4)"
   ]
  },
  {
   "cell_type": "code",
   "execution_count": 22,
   "id": "ec906192-a7b2-4f32-9a94-f1c7e64d0eaf",
   "metadata": {},
   "outputs": [],
   "source": [
    "## making gifs \n",
    "## we didn't cover it in the lecture but it's a useful and fun skill, feel free to google or ChatGPT "
   ]
  }
 ],
 "metadata": {
  "kernelspec": {
   "display_name": "Python 3 (ipykernel)",
   "language": "python",
   "name": "python3"
  },
  "language_info": {
   "codemirror_mode": {
    "name": "ipython",
    "version": 3
   },
   "file_extension": ".py",
   "mimetype": "text/x-python",
   "name": "python",
   "nbconvert_exporter": "python",
   "pygments_lexer": "ipython3",
   "version": "3.8.0"
  }
 },
 "nbformat": 4,
 "nbformat_minor": 5
}
